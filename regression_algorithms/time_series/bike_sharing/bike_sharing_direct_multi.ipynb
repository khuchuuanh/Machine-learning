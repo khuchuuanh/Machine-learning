{
 "cells": [
  {
   "attachments": {},
   "cell_type": "markdown",
   "metadata": {},
   "source": [
    "sử dụng dữ liệu bike-sharing-dataset: và sử dụng mô hình direct multi-step time series. Em sử dụng mô hình linear regression \n",
    "và sử dụng pipepline và grid search\n",
    " em dùng 4 giờ liên tục để dự đoán giờ tiếp theo, tiếp theo +2, và tiếp theo +3 "
   ]
  },
  {
   "cell_type": "code",
   "execution_count": 251,
   "metadata": {},
   "outputs": [],
   "source": [
    "import pandas as pd\n",
    "import matplotlib.pyplot as plt\n",
    "from sklearn.pipeline import Pipeline\n",
    "from sklearn.preprocessing import OrdinalEncoder, StandardScaler\n",
    "from sklearn.compose import ColumnTransformer\n",
    "from sklearn.linear_model import LinearRegression\n",
    "from sklearn.metrics import r2_score, mean_absolute_error, mean_squared_error\n",
    "from sklearn.svm import SVR\n",
    "from sklearn.ensemble import RandomForestRegressor\n",
    "from sklearn.model_selection import GridSearchCV\n",
    "from sklearn.svm import SVR\n",
    "from sklearn.ensemble import GradientBoostingRegressor\n",
    "from lazypredict.Supervised import LazyRegressor"
   ]
  },
  {
   "cell_type": "code",
   "execution_count": 230,
   "metadata": {},
   "outputs": [],
   "source": [
    "df = pd.read_csv('bike-sharing-dataset.csv')"
   ]
  },
  {
   "cell_type": "code",
   "execution_count": 231,
   "metadata": {},
   "outputs": [
    {
     "data": {
      "text/html": [
       "<div>\n",
       "<style scoped>\n",
       "    .dataframe tbody tr th:only-of-type {\n",
       "        vertical-align: middle;\n",
       "    }\n",
       "\n",
       "    .dataframe tbody tr th {\n",
       "        vertical-align: top;\n",
       "    }\n",
       "\n",
       "    .dataframe thead th {\n",
       "        text-align: right;\n",
       "    }\n",
       "</style>\n",
       "<table border=\"1\" class=\"dataframe\">\n",
       "  <thead>\n",
       "    <tr style=\"text-align: right;\">\n",
       "      <th></th>\n",
       "      <th>date_time</th>\n",
       "      <th>holiday</th>\n",
       "      <th>workingday</th>\n",
       "      <th>weather</th>\n",
       "      <th>temp</th>\n",
       "      <th>atemp</th>\n",
       "      <th>hum</th>\n",
       "      <th>windspeed</th>\n",
       "      <th>users</th>\n",
       "      <th>month</th>\n",
       "      <th>hour</th>\n",
       "      <th>weekday</th>\n",
       "    </tr>\n",
       "  </thead>\n",
       "  <tbody>\n",
       "    <tr>\n",
       "      <th>0</th>\n",
       "      <td>2011-01-01 00:00:00</td>\n",
       "      <td>0.0</td>\n",
       "      <td>0.0</td>\n",
       "      <td>clear</td>\n",
       "      <td>9.84</td>\n",
       "      <td>14.395</td>\n",
       "      <td>81.0</td>\n",
       "      <td>0.0</td>\n",
       "      <td>16.0</td>\n",
       "      <td>1</td>\n",
       "      <td>0</td>\n",
       "      <td>5</td>\n",
       "    </tr>\n",
       "    <tr>\n",
       "      <th>1</th>\n",
       "      <td>2011-01-01 01:00:00</td>\n",
       "      <td>0.0</td>\n",
       "      <td>0.0</td>\n",
       "      <td>clear</td>\n",
       "      <td>9.02</td>\n",
       "      <td>13.635</td>\n",
       "      <td>80.0</td>\n",
       "      <td>0.0</td>\n",
       "      <td>40.0</td>\n",
       "      <td>1</td>\n",
       "      <td>1</td>\n",
       "      <td>5</td>\n",
       "    </tr>\n",
       "    <tr>\n",
       "      <th>2</th>\n",
       "      <td>2011-01-01 02:00:00</td>\n",
       "      <td>0.0</td>\n",
       "      <td>0.0</td>\n",
       "      <td>clear</td>\n",
       "      <td>9.02</td>\n",
       "      <td>13.635</td>\n",
       "      <td>80.0</td>\n",
       "      <td>0.0</td>\n",
       "      <td>32.0</td>\n",
       "      <td>1</td>\n",
       "      <td>2</td>\n",
       "      <td>5</td>\n",
       "    </tr>\n",
       "    <tr>\n",
       "      <th>3</th>\n",
       "      <td>2011-01-01 03:00:00</td>\n",
       "      <td>0.0</td>\n",
       "      <td>0.0</td>\n",
       "      <td>clear</td>\n",
       "      <td>9.84</td>\n",
       "      <td>14.395</td>\n",
       "      <td>75.0</td>\n",
       "      <td>0.0</td>\n",
       "      <td>13.0</td>\n",
       "      <td>1</td>\n",
       "      <td>3</td>\n",
       "      <td>5</td>\n",
       "    </tr>\n",
       "    <tr>\n",
       "      <th>4</th>\n",
       "      <td>2011-01-01 04:00:00</td>\n",
       "      <td>0.0</td>\n",
       "      <td>0.0</td>\n",
       "      <td>clear</td>\n",
       "      <td>9.84</td>\n",
       "      <td>14.395</td>\n",
       "      <td>75.0</td>\n",
       "      <td>0.0</td>\n",
       "      <td>1.0</td>\n",
       "      <td>1</td>\n",
       "      <td>4</td>\n",
       "      <td>5</td>\n",
       "    </tr>\n",
       "  </tbody>\n",
       "</table>\n",
       "</div>"
      ],
      "text/plain": [
       "             date_time  holiday  workingday weather  temp   atemp   hum  \\\n",
       "0  2011-01-01 00:00:00      0.0         0.0   clear  9.84  14.395  81.0   \n",
       "1  2011-01-01 01:00:00      0.0         0.0   clear  9.02  13.635  80.0   \n",
       "2  2011-01-01 02:00:00      0.0         0.0   clear  9.02  13.635  80.0   \n",
       "3  2011-01-01 03:00:00      0.0         0.0   clear  9.84  14.395  75.0   \n",
       "4  2011-01-01 04:00:00      0.0         0.0   clear  9.84  14.395  75.0   \n",
       "\n",
       "   windspeed  users  month  hour  weekday  \n",
       "0        0.0   16.0      1     0        5  \n",
       "1        0.0   40.0      1     1        5  \n",
       "2        0.0   32.0      1     2        5  \n",
       "3        0.0   13.0      1     3        5  \n",
       "4        0.0    1.0      1     4        5  "
      ]
     },
     "execution_count": 231,
     "metadata": {},
     "output_type": "execute_result"
    }
   ],
   "source": [
    "df.head()"
   ]
  },
  {
   "cell_type": "code",
   "execution_count": 232,
   "metadata": {},
   "outputs": [
    {
     "name": "stdout",
     "output_type": "stream",
     "text": [
      "<class 'pandas.core.frame.DataFrame'>\n",
      "RangeIndex: 17544 entries, 0 to 17543\n",
      "Data columns (total 12 columns):\n",
      " #   Column      Non-Null Count  Dtype  \n",
      "---  ------      --------------  -----  \n",
      " 0   date_time   17544 non-null  object \n",
      " 1   holiday     17544 non-null  float64\n",
      " 2   workingday  17544 non-null  float64\n",
      " 3   weather     17544 non-null  object \n",
      " 4   temp        17544 non-null  float64\n",
      " 5   atemp       17544 non-null  float64\n",
      " 6   hum         17544 non-null  float64\n",
      " 7   windspeed   17544 non-null  float64\n",
      " 8   users       17544 non-null  float64\n",
      " 9   month       17544 non-null  int64  \n",
      " 10  hour        17544 non-null  int64  \n",
      " 11  weekday     17544 non-null  int64  \n",
      "dtypes: float64(7), int64(3), object(2)\n",
      "memory usage: 1.6+ MB\n"
     ]
    }
   ],
   "source": [
    "df.info()"
   ]
  },
  {
   "cell_type": "code",
   "execution_count": 233,
   "metadata": {},
   "outputs": [],
   "source": [
    "df['date_time'] = pd.to_datetime(df['date_time'])\n"
   ]
  },
  {
   "cell_type": "code",
   "execution_count": 234,
   "metadata": {},
   "outputs": [
    {
     "data": {
      "text/html": [
       "<div>\n",
       "<style scoped>\n",
       "    .dataframe tbody tr th:only-of-type {\n",
       "        vertical-align: middle;\n",
       "    }\n",
       "\n",
       "    .dataframe tbody tr th {\n",
       "        vertical-align: top;\n",
       "    }\n",
       "\n",
       "    .dataframe thead th {\n",
       "        text-align: right;\n",
       "    }\n",
       "</style>\n",
       "<table border=\"1\" class=\"dataframe\">\n",
       "  <thead>\n",
       "    <tr style=\"text-align: right;\">\n",
       "      <th></th>\n",
       "      <th>date_time</th>\n",
       "      <th>holiday</th>\n",
       "      <th>workingday</th>\n",
       "      <th>weather</th>\n",
       "      <th>temp</th>\n",
       "      <th>atemp</th>\n",
       "      <th>hum</th>\n",
       "      <th>windspeed</th>\n",
       "      <th>users</th>\n",
       "      <th>month</th>\n",
       "      <th>hour</th>\n",
       "      <th>weekday</th>\n",
       "    </tr>\n",
       "  </thead>\n",
       "  <tbody>\n",
       "    <tr>\n",
       "      <th>0</th>\n",
       "      <td>2011-01-01 00:00:00</td>\n",
       "      <td>0.0</td>\n",
       "      <td>0.0</td>\n",
       "      <td>clear</td>\n",
       "      <td>9.84</td>\n",
       "      <td>14.395</td>\n",
       "      <td>81.0</td>\n",
       "      <td>0.0</td>\n",
       "      <td>16.0</td>\n",
       "      <td>1</td>\n",
       "      <td>0</td>\n",
       "      <td>5</td>\n",
       "    </tr>\n",
       "    <tr>\n",
       "      <th>1</th>\n",
       "      <td>2011-01-01 01:00:00</td>\n",
       "      <td>0.0</td>\n",
       "      <td>0.0</td>\n",
       "      <td>clear</td>\n",
       "      <td>9.02</td>\n",
       "      <td>13.635</td>\n",
       "      <td>80.0</td>\n",
       "      <td>0.0</td>\n",
       "      <td>40.0</td>\n",
       "      <td>1</td>\n",
       "      <td>1</td>\n",
       "      <td>5</td>\n",
       "    </tr>\n",
       "    <tr>\n",
       "      <th>2</th>\n",
       "      <td>2011-01-01 02:00:00</td>\n",
       "      <td>0.0</td>\n",
       "      <td>0.0</td>\n",
       "      <td>clear</td>\n",
       "      <td>9.02</td>\n",
       "      <td>13.635</td>\n",
       "      <td>80.0</td>\n",
       "      <td>0.0</td>\n",
       "      <td>32.0</td>\n",
       "      <td>1</td>\n",
       "      <td>2</td>\n",
       "      <td>5</td>\n",
       "    </tr>\n",
       "    <tr>\n",
       "      <th>3</th>\n",
       "      <td>2011-01-01 03:00:00</td>\n",
       "      <td>0.0</td>\n",
       "      <td>0.0</td>\n",
       "      <td>clear</td>\n",
       "      <td>9.84</td>\n",
       "      <td>14.395</td>\n",
       "      <td>75.0</td>\n",
       "      <td>0.0</td>\n",
       "      <td>13.0</td>\n",
       "      <td>1</td>\n",
       "      <td>3</td>\n",
       "      <td>5</td>\n",
       "    </tr>\n",
       "    <tr>\n",
       "      <th>4</th>\n",
       "      <td>2011-01-01 04:00:00</td>\n",
       "      <td>0.0</td>\n",
       "      <td>0.0</td>\n",
       "      <td>clear</td>\n",
       "      <td>9.84</td>\n",
       "      <td>14.395</td>\n",
       "      <td>75.0</td>\n",
       "      <td>0.0</td>\n",
       "      <td>1.0</td>\n",
       "      <td>1</td>\n",
       "      <td>4</td>\n",
       "      <td>5</td>\n",
       "    </tr>\n",
       "  </tbody>\n",
       "</table>\n",
       "</div>"
      ],
      "text/plain": [
       "            date_time  holiday  workingday weather  temp   atemp   hum  \\\n",
       "0 2011-01-01 00:00:00      0.0         0.0   clear  9.84  14.395  81.0   \n",
       "1 2011-01-01 01:00:00      0.0         0.0   clear  9.02  13.635  80.0   \n",
       "2 2011-01-01 02:00:00      0.0         0.0   clear  9.02  13.635  80.0   \n",
       "3 2011-01-01 03:00:00      0.0         0.0   clear  9.84  14.395  75.0   \n",
       "4 2011-01-01 04:00:00      0.0         0.0   clear  9.84  14.395  75.0   \n",
       "\n",
       "   windspeed  users  month  hour  weekday  \n",
       "0        0.0   16.0      1     0        5  \n",
       "1        0.0   40.0      1     1        5  \n",
       "2        0.0   32.0      1     2        5  \n",
       "3        0.0   13.0      1     3        5  \n",
       "4        0.0    1.0      1     4        5  "
      ]
     },
     "execution_count": 234,
     "metadata": {},
     "output_type": "execute_result"
    }
   ],
   "source": [
    "df.head()"
   ]
  },
  {
   "cell_type": "code",
   "execution_count": 235,
   "metadata": {},
   "outputs": [
    {
     "data": {
      "image/png": "[encoded data removed]",
      "text/plain": [
       "<Figure size 640x480 with 1 Axes>"
      ]
     },
     "metadata": {},
     "output_type": "display_data"
    }
   ],
   "source": [
    "plt.plot(df.date_time, df.temp)\n",
    "plt.xlabel('time')\n",
    "plt.ylabel(\"temp\")\n",
    "plt.xticks(rotation = 30)\n",
    "plt.show()"
   ]
  },
  {
   "attachments": {},
   "cell_type": "markdown",
   "metadata": {},
   "source": [
    "### create data"
   ]
  },
  {
   "cell_type": "code",
   "execution_count": 236,
   "metadata": {},
   "outputs": [],
   "source": [
    "def create_data(data, window_size, target_size):\n",
    "    i = 1\n",
    "    while i < window_size:\n",
    "        data['temp_{}'.format(i)] = data['temp'].shift(-i)\n",
    "        i +=1\n",
    "    i = 0\n",
    "    while i < target_size:\n",
    "        data['target_{}'.format(i)] = data['temp'].shift(-i-window_size)\n",
    "        i += 1\n",
    "    data = data.dropna(axis = 0)\n",
    "    return data\n"
   ]
  },
  {
   "cell_type": "code",
   "execution_count": 237,
   "metadata": {},
   "outputs": [],
   "source": [
    "window_size = 5\n",
    "target = 3\n",
    "df = create_data(df,window_size,target)"
   ]
  },
  {
   "cell_type": "code",
   "execution_count": 238,
   "metadata": {},
   "outputs": [],
   "source": [
    "target = [\"target_{}\".format(i) for i in range(target)]\n",
    "x = df.drop(['date_time'] + target, axis = 1)\n",
    "y =df[target]"
   ]
  },
  {
   "cell_type": "code",
   "execution_count": 239,
   "metadata": {},
   "outputs": [],
   "source": [
    "ratio = 0.8\n",
    "x_train = x[ : int(len(x)*ratio)]\n",
    "y_train = y[ : int(len(y)*ratio)]\n",
    "\n",
    "x_test = x[int(len(x)*ratio) : ]\n",
    "y_test = y[int(len(y)*ratio) : ]"
   ]
  },
  {
   "cell_type": "code",
   "execution_count": 240,
   "metadata": {},
   "outputs": [],
   "source": [
    "num_feature = Pipeline(steps=[\n",
    "    (\"standard_scale\", StandardScaler())\n",
    "])\n",
    "\n",
    "weather_values = df['weather'].unique()\n",
    "ord_feature = Pipeline(steps=[\n",
    "    (\"encoder\", OrdinalEncoder(categories=[weather_values]))\n",
    "])\n"
   ]
  },
  {
   "cell_type": "code",
   "execution_count": 241,
   "metadata": {},
   "outputs": [],
   "source": [
    "preprocessor = ColumnTransformer(transformers=[\n",
    "    (\"num_feature\", num_feature, ['holiday', 'workingday','temp', 'atemp','hum','windspeed','users','month', 'hour','weekday','temp_1','temp_2','temp_3']),\n",
    "    (\"ord_feature\", ord_feature,['weather'] )\n",
    "])"
   ]
  },
  {
   "cell_type": "code",
   "execution_count": 242,
   "metadata": {},
   "outputs": [],
   "source": [
    "reg1 = Pipeline(steps=[\n",
    "    ('preprocess1', preprocessor),\n",
    "    (\"model1\",LinearRegression())\n",
    "])"
   ]
  },
  {
   "cell_type": "code",
   "execution_count": 243,
   "metadata": {},
   "outputs": [],
   "source": [
    "reg2 = Pipeline(steps=[\n",
    "    (\"preprocess2\", preprocessor),\n",
    "    (\"model2\", SVR())\n",
    "])"
   ]
  },
  {
   "cell_type": "code",
   "execution_count": 244,
   "metadata": {},
   "outputs": [],
   "source": [
    "reg3 = Pipeline(steps=[\n",
    "    (\"preprocess3\", preprocessor),\n",
    "    (\"model3\", GradientBoostingRegressor())\n",
    "])"
   ]
  },
  {
   "cell_type": "code",
   "execution_count": 245,
   "metadata": {},
   "outputs": [],
   "source": [
    "regs = [reg1, reg2, reg3]"
   ]
  },
  {
   "cell_type": "code",
   "execution_count": 175,
   "metadata": {},
   "outputs": [],
   "source": [
    "\n",
    "for i, reg in enumerate(regs):\n",
    "    reg.fit(x_train, y_train[\"target_{}\".format(i)])\n",
    "    "
   ]
  },
  {
   "cell_type": "code",
   "execution_count": 141,
   "metadata": {},
   "outputs": [],
   "source": [
    "r2 = []\n",
    "mse = []\n",
    "mae = []\n",
    "pred = []"
   ]
  },
  {
   "cell_type": "code",
   "execution_count": 142,
   "metadata": {},
   "outputs": [],
   "source": [
    "for i, reg in enumerate(regs):\n",
    "    y_pred = reg.predict(x_test)\n",
    "    pred.append(y_pred)\n",
    "    r2.append(r2_score(y_test['target_{}'.format(i)], y_pred))\n",
    "    mse.append(mean_squared_error(y_test['target_{}'.format(i)], y_pred))\n",
    "    mae.append(mean_absolute_error(y_test['target_{}'.format(i)], y_pred))"
   ]
  },
  {
   "cell_type": "code",
   "execution_count": 143,
   "metadata": {},
   "outputs": [
    {
     "data": {
      "text/plain": [
       "[0.969486595554271, 0.9605059827049185, 0.9582310616682153]"
      ]
     },
     "execution_count": 143,
     "metadata": {},
     "output_type": "execute_result"
    }
   ],
   "source": [
    "r2"
   ]
  },
  {
   "cell_type": "code",
   "execution_count": 144,
   "metadata": {},
   "outputs": [
    {
     "data": {
      "text/plain": [
       "[0.8886072978416536, 1.0167516242763224, 1.0374666213547246]"
      ]
     },
     "execution_count": 144,
     "metadata": {},
     "output_type": "execute_result"
    }
   ],
   "source": [
    "mae"
   ]
  },
  {
   "cell_type": "code",
   "execution_count": 145,
   "metadata": {},
   "outputs": [
    {
     "data": {
      "text/plain": [
       "[1.4652779237096836, 1.8960992082928272, 2.004854892158523]"
      ]
     },
     "execution_count": 145,
     "metadata": {},
     "output_type": "execute_result"
    }
   ],
   "source": [
    "mse"
   ]
  },
  {
   "cell_type": "code",
   "execution_count": 146,
   "metadata": {},
   "outputs": [
    {
     "data": {
      "image/png": "[encoded data removed]",
      "text/plain": [
       "<Figure size 640x480 with 1 Axes>"
      ]
     },
     "metadata": {},
     "output_type": "display_data"
    }
   ],
   "source": [
    "plt.plot(df['date_time'][:int(len(df)*0.8)], df['temp'][:int(len(df)*0.8)], label = \"train\")\n",
    "plt.plot(df['date_time'][int(len(df)*0.8):], df['temp'][int(len(df)*0.8):], label = \"test\")\n",
    "plt.plot(df['date_time'][int(len(df)*0.8):], pred[0], label = \"predict\")\n",
    "plt.xlabel(\"time\")\n",
    "plt.ylabel(\"temp\")\n",
    "plt.title(\"visual data\")\n",
    "plt.xticks(rotation = 30)\n",
    "plt.legend()\n",
    "plt.show()"
   ]
  },
  {
   "cell_type": "code",
   "execution_count": 246,
   "metadata": {},
   "outputs": [],
   "source": [
    "pram1 = {\n",
    "    \"model1__fit_intercept\" : [True, False],\n",
    "    \"model1__copy_X\" : [True, False],\n",
    "}"
   ]
  },
  {
   "cell_type": "code",
   "execution_count": 247,
   "metadata": {},
   "outputs": [],
   "source": [
    "pram2 = {\n",
    "    \"model2__degree\" : [5,7],\n",
    "    \"model2__gamma\" : ['scale',\"auto\"]\n",
    "}"
   ]
  },
  {
   "cell_type": "code",
   "execution_count": 248,
   "metadata": {},
   "outputs": [],
   "source": [
    "pram3 = {\n",
    "    \"model3__learning_rate\" : [0.1,0.01],\n",
    "    \"model3__n_estimators\" : [50,100,150]\n",
    "}"
   ]
  },
  {
   "cell_type": "code",
   "execution_count": 249,
   "metadata": {},
   "outputs": [],
   "source": [
    "prams = [pram1, pram2, pram3]\n",
    "grid_model = []"
   ]
  },
  {
   "cell_type": "code",
   "execution_count": 250,
   "metadata": {},
   "outputs": [
    {
     "name": "stdout",
     "output_type": "stream",
     "text": [
      "Fitting 6 folds for each of 4 candidates, totalling 24 fits\n",
      "Fitting 6 folds for each of 4 candidates, totalling 24 fits\n",
      "Fitting 6 folds for each of 6 candidates, totalling 36 fits\n"
     ]
    }
   ],
   "source": [
    "for i, reg in enumerate(regs):\n",
    "    grid_pred = GridSearchCV(reg, param_grid=prams[i], n_jobs= -1, verbose= 1, scoring='r2', cv= 6)\n",
    "    grid_model.append(grid_pred.fit(x_train, y_train[\"target_{}\".format(i)]))\n",
    "\n",
    "    "
   ]
  },
  {
   "cell_type": "code",
   "execution_count": 258,
   "metadata": {},
   "outputs": [
    {
     "name": "stdout",
     "output_type": "stream",
     "text": [
      "0.8899063375067073\n"
     ]
    }
   ],
   "source": [
    "print(grid_model[2].best_score_)"
   ]
  },
  {
   "cell_type": "code",
   "execution_count": 257,
   "metadata": {},
   "outputs": [
    {
     "name": "stdout",
     "output_type": "stream",
     "text": [
      "{'model3__learning_rate': 0.1, 'model3__n_estimators': 150}\n"
     ]
    }
   ],
   "source": [
    "print(grid_model[2].best_params_)"
   ]
  },
  {
   "cell_type": "code",
   "execution_count": 259,
   "metadata": {},
   "outputs": [
    {
     "name": "stderr",
     "output_type": "stream",
     "text": [
      " 69%|██████▉   | 29/42 [01:30<00:31,  2.44s/it]"
     ]
    }
   ],
   "source": [
    "pred_lazy = LazyRegressor(verbose= 0, ignore_warnings= False, custom_metric= None)\n",
    "models, predictions = pred_lazy.fit(x_train, x_test, y_train['target_0'], y_test['target_0'])"
   ]
  },
  {
   "cell_type": "code",
   "execution_count": null,
   "metadata": {},
   "outputs": [],
   "source": []
  }
 ],
 "metadata": {
  "kernelspec": {
   "display_name": "py39",
   "language": "python",
   "name": "python3"
  },
  "language_info": {
   "codemirror_mode": {
    "name": "ipython",
    "version": 3
   },
   "file_extension": ".py",
   "mimetype": "text/x-python",
   "name": "python",
   "nbconvert_exporter": "python",
   "pygments_lexer": "ipython3",
   "version": "3.9.16"
  },
  "orig_nbformat": 4
 },
 "nbformat": 4,
 "nbformat_minor": 2
}
